{
 "cells": [
  {
   "cell_type": "code",
   "execution_count": 4,
   "metadata": {},
   "outputs": [
    {
     "name": "stdout",
     "output_type": "stream",
     "text": [
      "720\n"
     ]
    }
   ],
   "source": [
    "from daily_data import daily_data\n",
    "print(len(daily_data))"
   ]
  },
  {
   "cell_type": "code",
   "execution_count": 5,
   "metadata": {},
   "outputs": [],
   "source": [
    "from collections import namedtuple\n",
    "Day = namedtuple('Day', ['total_payout', 'total_shares', 'unclaimed_sats', 'payout_acc'])"
   ]
  },
  {
   "cell_type": "code",
   "execution_count": 6,
   "metadata": {},
   "outputs": [],
   "source": [
    "def decode_raw_day(day):\n",
    "    bytes_day = day.to_bytes(32, 'big')\n",
    "    total_payout = int.from_bytes(bytes_day[-9:], 'big')\n",
    "    total_shares = int.from_bytes(bytes_day[-18:-9], 'big')\n",
    "    unclaimed_sats = int.from_bytes(bytes_day[:-18], 'big')\n",
    "    return total_payout, total_shares, unclaimed_sats\n"
   ]
  },
  {
   "cell_type": "code",
   "execution_count": 19,
   "metadata": {},
   "outputs": [
    {
     "data": {
      "text/plain": [
       "1000000000000000000"
      ]
     },
     "execution_count": 19,
     "metadata": {},
     "output_type": "execute_result"
    }
   ],
   "source": [
    "SCALE = 10**18\n",
    "\n",
    "def require_is_uint256(x):\n",
    "    if type(x) is not int:\n",
    "        raise TypeError('x not of type int')\n",
    "    if x >= (1 << 256):\n",
    "        raise ValueError('x exceeds uint256 size')\n",
    "    return x\n",
    "        \n",
    "SCALE"
   ]
  },
  {
   "cell_type": "code",
   "execution_count": 43,
   "metadata": {},
   "outputs": [
    {
     "data": {
      "text/plain": [
       "[Day(total_payout=55329220332766, total_shares=501364909947909436, unclaimed_sats=1795387317713001, payout_acc=0),\n",
       " Day(total_payout=71541552620633, total_shares=761531175093469456, unclaimed_sats=1794410398133809, payout_acc=110357185425111),\n",
       " Day(total_payout=97938185332763, total_shares=1013794810629683382, unclaimed_sats=1794047382764103, payout_acc=204301537226404)]"
      ]
     },
     "execution_count": 43,
     "metadata": {},
     "output_type": "execute_result"
    }
   ],
   "source": [
    "full_daily_data = []\n",
    "next_acc = 0\n",
    "for raw_day in daily_data[1:]:\n",
    "    total_payout, total_shares, unclaimed_sats = decode_raw_day(raw_day)\n",
    "    full_daily_data.append(Day(total_payout, total_shares, unclaimed_sats, next_acc))\n",
    "    if total_shares > 0:\n",
    "        next_acc += require_is_uint256(total_payout * SCALE // total_shares)\n",
    "    \n",
    "full_daily_data.append(Day(None, None, None, next_acc))\n",
    "total_days = len(full_daily_data) - 1\n",
    "full_daily_data[:3]"
   ]
  },
  {
   "cell_type": "code",
   "execution_count": 44,
   "metadata": {},
   "outputs": [],
   "source": [
    "from random import random, randint, seed\n",
    "import math"
   ]
  },
  {
   "cell_type": "code",
   "execution_count": 45,
   "metadata": {},
   "outputs": [
    {
     "data": {
      "text/plain": [
       "5.0"
      ]
     },
     "execution_count": 45,
     "metadata": {},
     "output_type": "execute_result"
    }
   ],
   "source": [
    "math.log(100_000 / 1, 10)"
   ]
  },
  {
   "cell_type": "code",
   "execution_count": 46,
   "metadata": {},
   "outputs": [],
   "source": [
    "def randrange(low, high=None):\n",
    "    if high is None:\n",
    "        high = low\n",
    "        low = 0\n",
    "    return (high - low) * random() + low"
   ]
  },
  {
   "cell_type": "code",
   "execution_count": 47,
   "metadata": {},
   "outputs": [],
   "source": [
    "def lin_random_bn(low, high, s=1e12):\n",
    "    return randint(int(low * s), int(high * s))\n",
    "\n",
    "def log_random_bn(low, high, s=1e12):\n",
    "    log_diff = math.log(high / low)\n",
    "    return int(low * math.exp(randrange(log_diff)) * s)\n",
    "\n",
    "def rand_sign(neg_prob):\n",
    "    if random() <= neg_prob:\n",
    "        return -1\n",
    "    return 1\n",
    "        "
   ]
  },
  {
   "cell_type": "code",
   "execution_count": 48,
   "metadata": {},
   "outputs": [],
   "source": [
    "def full_calculate_payout(user_shares, start_day, end_day, extra_scale=1):\n",
    "    return sum(\n",
    "        user_shares * total_payout * extra_scale // total_shares\n",
    "        for total_payout, total_shares, _, _ in full_daily_data[start_day:end_day]\n",
    "    ) // extra_scale"
   ]
  },
  {
   "cell_type": "code",
   "execution_count": 49,
   "metadata": {},
   "outputs": [],
   "source": [
    "def acc_calculate_payout(user_shares, start_day, end_day):\n",
    "    start_acc = full_daily_data[start_day].payout_acc\n",
    "    end_acc = full_daily_data[end_day].payout_acc\n",
    "    return user_shares * (end_acc - start_acc) // SCALE\n",
    "    "
   ]
  },
  {
   "cell_type": "code",
   "execution_count": 50,
   "metadata": {},
   "outputs": [],
   "source": [
    "def calculate_errors(user_shares, start_day, end_day, extra_precision):\n",
    "    full_payout = full_calculate_payout(user_shares, start_day, end_day, extra_precision)\n",
    "\n",
    "    acc_payout = acc_calculate_payout(user_shares, start_day, end_day)\n",
    "\n",
    "    acc_error = acc_payout / full_payout - 1\n",
    "    abs_acc_error = acc_payout - full_payout\n",
    "    print(f'\\nerror at x{float(extra_precision)} added precision:')\n",
    "    print(f'calculation error: {acc_error} (+{abs_acc_error:,} Hearts)')\n",
    "\n",
    "    relative_error = abs_acc_error / span\n",
    "    print(f'relative error: {relative_error:,.4f} Hearts / Day')\n",
    "    "
   ]
  },
  {
   "cell_type": "code",
   "execution_count": 394,
   "metadata": {},
   "outputs": [
    {
     "name": "stdout",
     "output_type": "stream",
     "text": [
      "user shares: 0.016374 T-Shares\n",
      "day 461 - 468 (span: 7)\n",
      "full payout: 0.67 HEX\n",
      "accumulated payout: 0.67 HEX\n",
      "\n",
      "error at x1.0 added precision:\n",
      "calculation error: 4.4647605612624375e-08 (+3 Hearts)\n",
      "relative error: 0.4286 Hearts / Day\n",
      "\n",
      "error at x10.0 added precision:\n",
      "calculation error: 1.4882534760118915e-08 (+1 Hearts)\n",
      "relative error: 0.1429 Hearts / Day\n",
      "\n",
      "error at x100.0 added precision:\n",
      "calculation error: 0.0 (+0 Hearts)\n",
      "relative error: 0.0000 Hearts / Day\n",
      "\n",
      "error at x1000.0 added precision:\n",
      "calculation error: 0.0 (+0 Hearts)\n",
      "relative error: 0.0000 Hearts / Day\n",
      "\n",
      "error at x10000.0 added precision:\n",
      "calculation error: 0.0 (+0 Hearts)\n",
      "relative error: 0.0000 Hearts / Day\n"
     ]
    }
   ],
   "source": [
    "# RUN this cell to simulate single stake\n",
    "\n",
    "user_shares = log_random_bn(0.01, 1e3)\n",
    "print(f'user shares: {user_shares / 1e12:,.6f} T-Shares')\n",
    "\n",
    "maximize_range = False\n",
    "\n",
    "if maximize_range:\n",
    "    start_day = randint(0, 10)\n",
    "    end_day = randint(total_days-10, total_days)\n",
    "else:\n",
    "    start_day = randint(0, total_days - 1)\n",
    "    end_day = randint(start_day + 1, total_days)\n",
    "span = end_day - start_day\n",
    "print(f'day {start_day} - {end_day} (span: {span})')\n",
    "\n",
    "full_payout = full_calculate_payout(user_shares, start_day, end_day)\n",
    "print(f'full payout: {full_payout/1e8:,.2f} HEX')\n",
    "\n",
    "acc_payout = acc_calculate_payout(user_shares, start_day, end_day)\n",
    "print(f'accumulated payout: {acc_payout/1e8:,.2f} HEX')\n",
    "\n",
    "params = user_shares, start_day, end_day\n",
    "calculate_errors(*params, 10**0)\n",
    "calculate_errors(*params, 10**1)\n",
    "calculate_errors(*params, 10**2)\n",
    "calculate_errors(*params, 10**3)\n",
    "calculate_errors(*params, 10**4)\n"
   ]
  }
 ],
 "metadata": {
  "kernelspec": {
   "display_name": "Python 3",
   "language": "python",
   "name": "python3"
  },
  "language_info": {
   "codemirror_mode": {
    "name": "ipython",
    "version": 3
   },
   "file_extension": ".py",
   "mimetype": "text/x-python",
   "name": "python",
   "nbconvert_exporter": "python",
   "pygments_lexer": "ipython3",
   "version": "3.8.10"
  }
 },
 "nbformat": 4,
 "nbformat_minor": 4
}
